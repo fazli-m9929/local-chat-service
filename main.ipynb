{
 "cells": [
  {
   "cell_type": "code",
   "execution_count": 4,
   "metadata": {},
   "outputs": [],
   "source": [
    "import torch\n",
    "from transformers import AutoTokenizer, AutoModelForCausalLM\n",
    "import pandas as pd\n",
    "from tqdm import tqdm"
   ]
  },
  {
   "cell_type": "code",
   "execution_count": 5,
   "metadata": {},
   "outputs": [],
   "source": [
    "df = pd.read_csv('./GICS-2024-EN.csv')\n",
    "model_path = '/home/models/Dorna-Llama3-8B-Instruct/'"
   ]
  },
  {
   "cell_type": "code",
   "execution_count": 6,
   "metadata": {},
   "outputs": [
    {
     "data": {
      "application/vnd.jupyter.widget-view+json": {
       "model_id": "1ae40de952a94f5697a779084604c5e3",
       "version_major": 2,
       "version_minor": 0
      },
      "text/plain": [
       "Loading checkpoint shards:   0%|          | 0/5 [00:00<?, ?it/s]"
      ]
     },
     "metadata": {},
     "output_type": "display_data"
    }
   ],
   "source": [
    "tokenizer = AutoTokenizer.from_pretrained(model_path)\n",
    "\n",
    "model = AutoModelForCausalLM.from_pretrained(\n",
    "    model_path,\n",
    "    torch_dtype=torch.bfloat16,\n",
    "    device_map=\"auto\"\n",
    ")"
   ]
  },
  {
   "cell_type": "code",
   "execution_count": 7,
   "metadata": {},
   "outputs": [],
   "source": [
    "system_prompt = (\n",
    "    \"You are a labeling assistant trained to categorize business activities based on provided sub-industry information.\\n\\n\"\n",
    "    \"Your task:\\n\"\n",
    "    \"- You will receive detailed information about a sub-industry, including its sector, industry group, industry,sub-industry \"\n",
    "    \"name, and a description of the sub-industry's typical activities.\\n\"\n",
    "    \"- Along with this, you will be given a specific business activity description.\\n\"\n",
    "    \"- Your goal is to determine whether the provided business activity aligns with the sub-industry's description.\\n\\n\"\n",
    "    \"Guidelines:\\n\"\n",
    "    \"1. Carefully compare the business activity description with the sub-industry details.\\n\"\n",
    "    \"2. Decide if the activity reasonably fits within the sub-industry’s scope.\\n\"\n",
    "    \"3. Respond exclusively with 'Yes' if it matches or 'No' if it does not.\\n\"\n",
    "    \"4. Do not include any explanations, reasons, or additional text—just 'Yes' or 'No.'\\n\\n\"\n",
    "    \"This ensures a clear and concise labeling process.\\n\"\n",
    ")\n",
    "\n",
    "\n",
    "user_message_template = (\n",
    "    \"Sub-Industry Information:\\n\"\n",
    "    \"{info}\\n\"\n",
    "    \"\\n\"\n",
    "    \"Business Activity Description:\\n\"\n",
    "    \"{text}\\n\"\n",
    ")"
   ]
  },
  {
   "cell_type": "code",
   "execution_count": 8,
   "metadata": {},
   "outputs": [
    {
     "name": "stderr",
     "output_type": "stream",
     "text": [
      "100%|██████████| 163/163 [00:07<00:00, 20.70it/s]\n"
     ]
    }
   ],
   "source": [
    "text = '+خدمات اداری و پشتیبانی، تامین نیروی انسانی (اشتغال در بخش های دولتی و شرکتهای خدماتی و موسسات غیر دولتی) کاریابی، بازاریابی و کمک و خدمات رسانی در جهت کنترل بازار تنظیم کالا و قیمت گذاری در غیر اصناف و در صورت نیاز اخذ مجوز از مراجع ذیصلاح قانونی '\n",
    "\n",
    "test_results = []\n",
    "\n",
    "for i, row in tqdm(df.iterrows(), total=len(df)):\n",
    "    info = (\n",
    "        \",\\n\".join([\n",
    "            f\"Id: {df.loc[i]['ID']}\",\n",
    "            f\"Sector: {df.loc[i]['Sector']}\",\n",
    "            f\"Industry Group: {df.loc[i]['IndustryGroups']}\",\n",
    "            f\"Industry: {df.loc[i]['Industries']}\",\n",
    "            f\"Sub-Industry: {df.loc[i]['SubIndustries']}\",\n",
    "            f\"Description: {df.loc[i]['SubIndustryDescription']}\",\n",
    "        ])\n",
    "    )\n",
    "\n",
    "    inputs = tokenizer.apply_chat_template(\n",
    "        conversation = [\n",
    "            {\"role\": \"system\", \"content\": system_prompt},\n",
    "            {\"role\": \"user\", \"content\": user_message_template.format(info=info, text=text)},\n",
    "        ],\n",
    "        # tokenize=False,\n",
    "        add_generation_prompt=True,\n",
    "        return_tensors='pt',\n",
    "        return_dict=True,\n",
    "    ).to(model.device)\n",
    "\n",
    "    with torch.no_grad():\n",
    "        output = model.generate(\n",
    "            **inputs,\n",
    "            max_new_tokens=1,\n",
    "            do_sample=True,\n",
    "            temperature=0.01, \n",
    "            eos_token_id=tokenizer.eos_token_id,\n",
    "            pad_token_id=tokenizer.pad_token_id,\n",
    "        )\n",
    "\n",
    "    test_results.append(tokenizer.decode(output[0][inputs.input_ids.shape[1]:], skip_special_tokens=True))"
   ]
  },
  {
   "cell_type": "code",
   "execution_count": 9,
   "metadata": {},
   "outputs": [],
   "source": [
    "indexes = [i for i, value in enumerate(test_results) if value.lower() == 'yes']"
   ]
  },
  {
   "cell_type": "code",
   "execution_count": 13,
   "metadata": {},
   "outputs": [
    {
     "data": {
      "text/html": [
       "<div>\n",
       "<style scoped>\n",
       "    .dataframe tbody tr th:only-of-type {\n",
       "        vertical-align: middle;\n",
       "    }\n",
       "\n",
       "    .dataframe tbody tr th {\n",
       "        vertical-align: top;\n",
       "    }\n",
       "\n",
       "    .dataframe thead th {\n",
       "        text-align: right;\n",
       "    }\n",
       "</style>\n",
       "<table border=\"1\" class=\"dataframe\">\n",
       "  <thead>\n",
       "    <tr style=\"text-align: right;\">\n",
       "      <th></th>\n",
       "      <th>ID</th>\n",
       "      <th>Sector</th>\n",
       "      <th>IndustryGroups</th>\n",
       "      <th>Industries</th>\n",
       "      <th>SubIndustries</th>\n",
       "      <th>SubIndustryDescription</th>\n",
       "    </tr>\n",
       "  </thead>\n",
       "  <tbody>\n",
       "    <tr>\n",
       "      <th>37</th>\n",
       "      <td>20201070</td>\n",
       "      <td>Industrials</td>\n",
       "      <td>Commercial &amp; Professional Services</td>\n",
       "      <td>Commercial Services &amp; Supplies</td>\n",
       "      <td>Diversified Support Services</td>\n",
       "      <td>Companies primarily providing labor oriented s...</td>\n",
       "    </tr>\n",
       "    <tr>\n",
       "      <th>39</th>\n",
       "      <td>20202010</td>\n",
       "      <td>Industrials</td>\n",
       "      <td>Commercial &amp; Professional Services</td>\n",
       "      <td>Professional Services</td>\n",
       "      <td>Human Resource &amp; Employment Services</td>\n",
       "      <td>Companies providing business support services ...</td>\n",
       "    </tr>\n",
       "    <tr>\n",
       "      <th>162</th>\n",
       "      <td>60201040</td>\n",
       "      <td>Real Estate</td>\n",
       "      <td>Real Estate Management &amp; Development</td>\n",
       "      <td>Real Estate Management &amp; Development</td>\n",
       "      <td>Real Estate Services</td>\n",
       "      <td>Real estate service providers such as real est...</td>\n",
       "    </tr>\n",
       "  </tbody>\n",
       "</table>\n",
       "</div>"
      ],
      "text/plain": [
       "           ID       Sector                        IndustryGroups  \\\n",
       "37   20201070  Industrials    Commercial & Professional Services   \n",
       "39   20202010  Industrials    Commercial & Professional Services   \n",
       "162  60201040  Real Estate  Real Estate Management & Development   \n",
       "\n",
       "                               Industries  \\\n",
       "37         Commercial Services & Supplies   \n",
       "39                  Professional Services   \n",
       "162  Real Estate Management & Development   \n",
       "\n",
       "                            SubIndustries  \\\n",
       "37           Diversified Support Services   \n",
       "39   Human Resource & Employment Services   \n",
       "162                  Real Estate Services   \n",
       "\n",
       "                                SubIndustryDescription  \n",
       "37   Companies primarily providing labor oriented s...  \n",
       "39   Companies providing business support services ...  \n",
       "162  Real estate service providers such as real est...  "
      ]
     },
     "execution_count": 13,
     "metadata": {},
     "output_type": "execute_result"
    }
   ],
   "source": [
    "df.loc[indexes]"
   ]
  },
  {
   "cell_type": "code",
   "execution_count": 4,
   "metadata": {},
   "outputs": [
    {
     "name": "stdout",
     "output_type": "stream",
     "text": [
      "Sat Nov 16 14:22:03 2024       \n",
      "+-----------------------------------------------------------------------------------------+\n",
      "| NVIDIA-SMI 560.35.03              Driver Version: 560.35.03      CUDA Version: 12.6     |\n",
      "|-----------------------------------------+------------------------+----------------------+\n",
      "| GPU  Name                 Persistence-M | Bus-Id          Disp.A | Volatile Uncorr. ECC |\n",
      "| Fan  Temp   Perf          Pwr:Usage/Cap |           Memory-Usage | GPU-Util  Compute M. |\n",
      "|                                         |                        |               MIG M. |\n",
      "|=========================================+========================+======================|\n",
      "|   0  NVIDIA GeForce RTX 4090        Off |   00000000:01:00.0  On |                  Off |\n",
      "|  0%   42C    P8             22W /  450W |    1560MiB /  24564MiB |      4%      Default |\n",
      "|                                         |                        |                  N/A |\n",
      "+-----------------------------------------+------------------------+----------------------+\n",
      "                                                                                         \n",
      "+-----------------------------------------------------------------------------------------+\n",
      "| Processes:                                                                              |\n",
      "|  GPU   GI   CI        PID   Type   Process name                              GPU Memory |\n",
      "|        ID   ID                                                               Usage      |\n",
      "|=========================================================================================|\n",
      "|    0   N/A  N/A      3235      C   /venv/bin/python3                             884MiB |\n",
      "|    0   N/A  N/A     23365      G   /usr/lib/xorg/Xorg                            189MiB |\n",
      "|    0   N/A  N/A     23625      G   /usr/bin/gnome-shell                           78MiB |\n",
      "|    0   N/A  N/A     24132      G   /usr/libexec/xdg-desktop-portal-gnome          26MiB |\n",
      "|    0   N/A  N/A     24595      G   ...sktop/6277/usr/bin/telegram-desktop          6MiB |\n",
      "|    0   N/A  N/A     24912      G   ...irefox/5273/usr/lib/firefox/firefox        272MiB |\n",
      "|    0   N/A  N/A     56336      G   ...erProcess --variations-seed-version         45MiB |\n",
      "+-----------------------------------------------------------------------------------------+\n"
     ]
    }
   ],
   "source": [
    "nvidia = ! nvidia-smi\n",
    "print('\\n'.join(nvidia))"
   ]
  }
 ],
 "metadata": {
  "kernelspec": {
   "display_name": ".venv",
   "language": "python",
   "name": "python3"
  },
  "language_info": {
   "codemirror_mode": {
    "name": "ipython",
    "version": 3
   },
   "file_extension": ".py",
   "mimetype": "text/x-python",
   "name": "python",
   "nbconvert_exporter": "python",
   "pygments_lexer": "ipython3",
   "version": "3.12.3"
  }
 },
 "nbformat": 4,
 "nbformat_minor": 2
}
